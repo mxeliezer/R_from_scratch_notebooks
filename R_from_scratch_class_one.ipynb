{
  "nbformat": 4,
  "nbformat_minor": 0,
  "metadata": {
    "colab": {
      "name": "R_from scratch.ipynb",
      "provenance": [],
      "authorship_tag": "ABX9TyOpEKlCrp3KmC9pLU7+ElH7",
      "include_colab_link": true
    },
    "kernelspec": {
      "name": "ir",
      "display_name": "R"
    }
  },
  "cells": [
    {
      "cell_type": "markdown",
      "metadata": {
        "id": "view-in-github",
        "colab_type": "text"
      },
      "source": [
        "<a href=\"https://colab.research.google.com/github/mxeliezer/R_from_scratch_notebooks/blob/main/R_from_scratch_class_one.ipynb\" target=\"_parent\"><img src=\"https://colab.research.google.com/assets/colab-badge.svg\" alt=\"Open In Colab\"/></a>"
      ]
    },
    {
      "cell_type": "markdown",
      "metadata": {
        "id": "WYf7kGl5RU58"
      },
      "source": [
        "# Welcome to R from scratch - *Class One*"
      ]
    },
    {
      "cell_type": "markdown",
      "metadata": {
        "id": "Re9LcotEbbmL"
      },
      "source": [
        "\n",
        "\n",
        "---\n",
        "\n"
      ]
    },
    {
      "cell_type": "markdown",
      "metadata": {
        "id": "PjAW0Req8PGo"
      },
      "source": [
        "How about knowing and practicing some principles of the **R** programming language?\n",
        "\n",
        "In this Notebook we will use a bultin dataset from R: **mtcars**. And through the **ggplot2** package, we will create a **scatter plot** in the best possible way. Let's do it?"
      ]
    },
    {
      "cell_type": "markdown",
      "metadata": {
        "id": "EZUZX4o1Oe9S"
      },
      "source": [
        "We can learn a little more about our dataset through the `help()` function, according to the code below"
      ]
    },
    {
      "cell_type": "code",
      "metadata": {
        "id": "MXDwaH3-9cBr"
      },
      "source": [
        "help(mtcars)"
      ],
      "execution_count": 1,
      "outputs": []
    },
    {
      "cell_type": "markdown",
      "metadata": {
        "id": "ij5CBkmiPAUS"
      },
      "source": [
        "We can see the data was extracted from the **1974 _Motor Trend_ US magazine**, and comprises fuel consumption and 10 aspects of automobile design and performance for 32 automobiles (1973-74 models). We will explore in particular the function **cyl = number of cylinders**.\n",
        "\n",
        "Let's take a closer look at the dataset and see how the data is organized, using the `head()` function, which will show us the first part of the dataset."
      ]
    },
    {
      "cell_type": "code",
      "metadata": {
        "colab": {
          "base_uri": "https://localhost:8080/",
          "height": 207
        },
        "id": "HKin7lRqO7mJ",
        "outputId": "c2395a8e-2e13-457d-99e4-f664ff92f613"
      },
      "source": [
        "head(mtcars)"
      ],
      "execution_count": 3,
      "outputs": [
        {
          "output_type": "display_data",
          "data": {
            "text/plain": [
              "                  mpg  cyl disp hp  drat wt    qsec  vs am gear carb\n",
              "Mazda RX4         21.0 6   160  110 3.90 2.620 16.46 0  1  4    4   \n",
              "Mazda RX4 Wag     21.0 6   160  110 3.90 2.875 17.02 0  1  4    4   \n",
              "Datsun 710        22.8 4   108   93 3.85 2.320 18.61 1  1  4    1   \n",
              "Hornet 4 Drive    21.4 6   258  110 3.08 3.215 19.44 1  0  3    1   \n",
              "Hornet Sportabout 18.7 8   360  175 3.15 3.440 17.02 0  0  3    2   \n",
              "Valiant           18.1 6   225  105 2.76 3.460 20.22 1  0  3    1   "
            ],
            "text/latex": "A data.frame: 6 × 11\n\\begin{tabular}{r|lllllllllll}\n  & mpg & cyl & disp & hp & drat & wt & qsec & vs & am & gear & carb\\\\\n  & <dbl> & <dbl> & <dbl> & <dbl> & <dbl> & <dbl> & <dbl> & <dbl> & <dbl> & <dbl> & <dbl>\\\\\n\\hline\n\tMazda RX4 & 21.0 & 6 & 160 & 110 & 3.90 & 2.620 & 16.46 & 0 & 1 & 4 & 4\\\\\n\tMazda RX4 Wag & 21.0 & 6 & 160 & 110 & 3.90 & 2.875 & 17.02 & 0 & 1 & 4 & 4\\\\\n\tDatsun 710 & 22.8 & 4 & 108 &  93 & 3.85 & 2.320 & 18.61 & 1 & 1 & 4 & 1\\\\\n\tHornet 4 Drive & 21.4 & 6 & 258 & 110 & 3.08 & 3.215 & 19.44 & 1 & 0 & 3 & 1\\\\\n\tHornet Sportabout & 18.7 & 8 & 360 & 175 & 3.15 & 3.440 & 17.02 & 0 & 0 & 3 & 2\\\\\n\tValiant & 18.1 & 6 & 225 & 105 & 2.76 & 3.460 & 20.22 & 1 & 0 & 3 & 1\\\\\n\\end{tabular}\n",
            "text/markdown": "\nA data.frame: 6 × 11\n\n| <!--/--> | mpg &lt;dbl&gt; | cyl &lt;dbl&gt; | disp &lt;dbl&gt; | hp &lt;dbl&gt; | drat &lt;dbl&gt; | wt &lt;dbl&gt; | qsec &lt;dbl&gt; | vs &lt;dbl&gt; | am &lt;dbl&gt; | gear &lt;dbl&gt; | carb &lt;dbl&gt; |\n|---|---|---|---|---|---|---|---|---|---|---|---|\n| Mazda RX4 | 21.0 | 6 | 160 | 110 | 3.90 | 2.620 | 16.46 | 0 | 1 | 4 | 4 |\n| Mazda RX4 Wag | 21.0 | 6 | 160 | 110 | 3.90 | 2.875 | 17.02 | 0 | 1 | 4 | 4 |\n| Datsun 710 | 22.8 | 4 | 108 |  93 | 3.85 | 2.320 | 18.61 | 1 | 1 | 4 | 1 |\n| Hornet 4 Drive | 21.4 | 6 | 258 | 110 | 3.08 | 3.215 | 19.44 | 1 | 0 | 3 | 1 |\n| Hornet Sportabout | 18.7 | 8 | 360 | 175 | 3.15 | 3.440 | 17.02 | 0 | 0 | 3 | 2 |\n| Valiant | 18.1 | 6 | 225 | 105 | 2.76 | 3.460 | 20.22 | 1 | 0 | 3 | 1 |\n\n",
            "text/html": [
              "<table>\n",
              "<caption>A data.frame: 6 × 11</caption>\n",
              "<thead>\n",
              "\t<tr><th></th><th scope=col>mpg</th><th scope=col>cyl</th><th scope=col>disp</th><th scope=col>hp</th><th scope=col>drat</th><th scope=col>wt</th><th scope=col>qsec</th><th scope=col>vs</th><th scope=col>am</th><th scope=col>gear</th><th scope=col>carb</th></tr>\n",
              "\t<tr><th></th><th scope=col>&lt;dbl&gt;</th><th scope=col>&lt;dbl&gt;</th><th scope=col>&lt;dbl&gt;</th><th scope=col>&lt;dbl&gt;</th><th scope=col>&lt;dbl&gt;</th><th scope=col>&lt;dbl&gt;</th><th scope=col>&lt;dbl&gt;</th><th scope=col>&lt;dbl&gt;</th><th scope=col>&lt;dbl&gt;</th><th scope=col>&lt;dbl&gt;</th><th scope=col>&lt;dbl&gt;</th></tr>\n",
              "</thead>\n",
              "<tbody>\n",
              "\t<tr><th scope=row>Mazda RX4</th><td>21.0</td><td>6</td><td>160</td><td>110</td><td>3.90</td><td>2.620</td><td>16.46</td><td>0</td><td>1</td><td>4</td><td>4</td></tr>\n",
              "\t<tr><th scope=row>Mazda RX4 Wag</th><td>21.0</td><td>6</td><td>160</td><td>110</td><td>3.90</td><td>2.875</td><td>17.02</td><td>0</td><td>1</td><td>4</td><td>4</td></tr>\n",
              "\t<tr><th scope=row>Datsun 710</th><td>22.8</td><td>4</td><td>108</td><td> 93</td><td>3.85</td><td>2.320</td><td>18.61</td><td>1</td><td>1</td><td>4</td><td>1</td></tr>\n",
              "\t<tr><th scope=row>Hornet 4 Drive</th><td>21.4</td><td>6</td><td>258</td><td>110</td><td>3.08</td><td>3.215</td><td>19.44</td><td>1</td><td>0</td><td>3</td><td>1</td></tr>\n",
              "\t<tr><th scope=row>Hornet Sportabout</th><td>18.7</td><td>8</td><td>360</td><td>175</td><td>3.15</td><td>3.440</td><td>17.02</td><td>0</td><td>0</td><td>3</td><td>2</td></tr>\n",
              "\t<tr><th scope=row>Valiant</th><td>18.1</td><td>6</td><td>225</td><td>105</td><td>2.76</td><td>3.460</td><td>20.22</td><td>1</td><td>0</td><td>3</td><td>1</td></tr>\n",
              "</tbody>\n",
              "</table>\n"
            ]
          },
          "metadata": {
            "tags": []
          }
        }
      ]
    },
    {
      "cell_type": "markdown",
      "metadata": {
        "id": "6MeD6FMDQkxE"
      },
      "source": [
        "Now let's install the ggplot2 package, using the `install.pakages()` function. And then activate it with the `library()` function."
      ]
    },
    {
      "cell_type": "code",
      "metadata": {
        "colab": {
          "base_uri": "https://localhost:8080/"
        },
        "id": "VL4Zdz9CQSso",
        "outputId": "32757f0f-c54d-45d1-f554-a0c72e2df18e"
      },
      "source": [
        "install.packages(\"ggplot2\")"
      ],
      "execution_count": 4,
      "outputs": [
        {
          "output_type": "stream",
          "text": [
            "Installing package into ‘/usr/local/lib/R/site-library’\n",
            "(as ‘lib’ is unspecified)\n",
            "\n"
          ],
          "name": "stderr"
        }
      ]
    },
    {
      "cell_type": "code",
      "metadata": {
        "id": "Ap_D01BJQ25I"
      },
      "source": [
        "library(ggplot2)"
      ],
      "execution_count": 5,
      "outputs": []
    },
    {
      "cell_type": "markdown",
      "metadata": {
        "id": "oErseKe9TXer"
      },
      "source": [
        "We can find out more about the **ggplot** function through the `help()` function. Take a good look at the attributes that compose each function. In this case, we must especially assign the data and map the values of the X and Y axes."
      ]
    },
    {
      "cell_type": "code",
      "metadata": {
        "id": "pxqX12PzTmds"
      },
      "source": [
        "help(ggplot)"
      ],
      "execution_count": 8,
      "outputs": []
    },
    {
      "cell_type": "markdown",
      "metadata": {
        "id": "pTK0uvtHSbZ6"
      },
      "source": [
        "Let's try a simple scatter plot, relating the variables **mpg** (miles per gallon) and **wt** (weight). \n",
        "\n",
        "The `geom_point()` command allows us to customize some aspects of our scatter plot, as in this case, the format of the dots."
      ]
    },
    {
      "cell_type": "code",
      "metadata": {
        "colab": {
          "base_uri": "https://localhost:8080/",
          "height": 437
        },
        "id": "PLc48gvNQ_iE",
        "outputId": "61af7cb1-5fd4-4d8a-bd9c-4b7ad8851f38"
      },
      "source": [
        "ggplot(mtcars,aes(x=mpg,y=wt)) + geom_point(shape=1)"
      ],
      "execution_count": 7,
      "outputs": [
        {
          "output_type": "display_data",
          "data": {
            "image/png": "[encoded data removed]",
            "text/plain": [
              "plot without title"
            ]
          },
          "metadata": {
            "tags": [],
            "image/png": {
              "width": 420,
              "height": 420
            }
          }
        }
      ]
    },
    {
      "cell_type": "markdown",
      "metadata": {
        "id": "6fT-9vhEVTAL"
      },
      "source": [
        "We will introduce a third variable to our scatter plot, in addition to **mpg** and **wt**. The automobiles will be categorized by the number of cylinders, so we're going to use the shape of each point to represent this.\n",
        "\n",
        "First we'll create a factor from the **cyl** (cylinder) variable, and then use the\n",
        "ggplot function to create the scatter plot.\n",
        "\n",
        "Let's take a look at the output."
      ]
    },
    {
      "cell_type": "code",
      "metadata": {
        "id": "WsHu-TlkTGvx"
      },
      "source": [
        "mtcars$cylFactor<-factor(mtcars$cyl)"
      ],
      "execution_count": 9,
      "outputs": []
    },
    {
      "cell_type": "code",
      "metadata": {
        "colab": {
          "base_uri": "https://localhost:8080/",
          "height": 52
        },
        "id": "iAxJlGBGWYfn",
        "outputId": "a0d96ff9-fd5b-4ceb-d7fd-56c13066df70"
      },
      "source": [
        "mtcars$cylFactor"
      ],
      "execution_count": 10,
      "outputs": [
        {
          "output_type": "display_data",
          "data": {
            "text/plain": [
              " [1] 6 6 4 6 8 6 8 4 4 6 6 8 8 8 8 8 8 4 4 4 4 8 8 8 8 4 4 4 8 6 8 4\n",
              "Levels: 4 6 8"
            ],
            "text/latex": "\\begin{enumerate*}\n\\item 6\n\\item 6\n\\item 4\n\\item 6\n\\item 8\n\\item 6\n\\item 8\n\\item 4\n\\item 4\n\\item 6\n\\item 6\n\\item 8\n\\item 8\n\\item 8\n\\item 8\n\\item 8\n\\item 8\n\\item 4\n\\item 4\n\\item 4\n\\item 4\n\\item 8\n\\item 8\n\\item 8\n\\item 8\n\\item 4\n\\item 4\n\\item 4\n\\item 8\n\\item 6\n\\item 8\n\\item 4\n\\end{enumerate*}\n\n\\emph{Levels}: \\begin{enumerate*}\n\\item '4'\n\\item '6'\n\\item '8'\n\\end{enumerate*}\n",
            "text/markdown": "1. 6\n2. 6\n3. 4\n4. 6\n5. 8\n6. 6\n7. 8\n8. 4\n9. 4\n10. 6\n11. 6\n12. 8\n13. 8\n14. 8\n15. 8\n16. 8\n17. 8\n18. 4\n19. 4\n20. 4\n21. 4\n22. 8\n23. 8\n24. 8\n25. 8\n26. 4\n27. 4\n28. 4\n29. 8\n30. 6\n31. 8\n32. 4\n\n\n\n**Levels**: 1. '4'\n2. '6'\n3. '8'\n\n\n",
            "text/html": [
              "<style>\n",
              ".list-inline {list-style: none; margin:0; padding: 0}\n",
              ".list-inline>li {display: inline-block}\n",
              ".list-inline>li:not(:last-child)::after {content: \"\\00b7\"; padding: 0 .5ex}\n",
              "</style>\n",
              "<ol class=list-inline><li>6</li><li>6</li><li>4</li><li>6</li><li>8</li><li>6</li><li>8</li><li>4</li><li>4</li><li>6</li><li>6</li><li>8</li><li>8</li><li>8</li><li>8</li><li>8</li><li>8</li><li>4</li><li>4</li><li>4</li><li>4</li><li>8</li><li>8</li><li>8</li><li>8</li><li>4</li><li>4</li><li>4</li><li>8</li><li>6</li><li>8</li><li>4</li></ol>\n",
              "\n",
              "<details>\n",
              "\t<summary style=display:list-item;cursor:pointer>\n",
              "\t\t<strong>Levels</strong>:\n",
              "\t</summary>\n",
              "\t<style>\n",
              "\t.list-inline {list-style: none; margin:0; padding: 0}\n",
              "\t.list-inline>li {display: inline-block}\n",
              "\t.list-inline>li:not(:last-child)::after {content: \"\\00b7\"; padding: 0 .5ex}\n",
              "\t</style>\n",
              "\t<ol class=list-inline><li>'4'</li><li>'6'</li><li>'8'</li></ol>\n",
              "</details>"
            ]
          },
          "metadata": {
            "tags": []
          }
        }
      ]
    },
    {
      "cell_type": "markdown",
      "metadata": {
        "id": "EryRBtywWofu"
      },
      "source": [
        "At this point, we will give our **scatter plot** a greater number of details. Take a good look at each one."
      ]
    },
    {
      "cell_type": "code",
      "metadata": {
        "colab": {
          "base_uri": "https://localhost:8080/",
          "height": 437
        },
        "id": "XPgpJggXWdnc",
        "outputId": "f6737812-89a3-483e-e6d0-e8cc0af11954"
      },
      "source": [
        "ggplot(mtcars,aes(x=mpg,y=wt, color= cylFactor)) + geom_point(shape = 19) + labs(colour=\"Cylinders\") + xlab(\"Miles per Gallon\") + ylab(\"Weight\") + ggtitle(\"Scatterplot: mtcars dataset\")"
      ],
      "execution_count": 11,
      "outputs": [
        {
          "output_type": "display_data",
          "data": {
            "image/png": "[encoded data removed]",
            "text/plain": [
              "plot without title"
            ]
          },
          "metadata": {
            "tags": [],
            "image/png": {
              "width": 420,
              "height": 420
            }
          }
        }
      ]
    },
    {
      "cell_type": "markdown",
      "metadata": {
        "id": "spfcUCPdXNCv"
      },
      "source": [
        "We add the colors according to the types of cylinders (`color= cylFactor`), change the shape of the points, with `geom_point()`, change the name of the legend with the function `labs()` and the names of the X and Y axes, with `xlab()` and `ylab()`. We add the title with `ggtitle()`."
      ]
    },
    {
      "cell_type": "markdown",
      "metadata": {
        "id": "EyLAccnXYf7n"
      },
      "source": [
        "With this we come to the end of this little exercise. I hope it has been fruitful for you and until next time."
      ]
    },
    {
      "cell_type": "markdown",
      "metadata": {
        "id": "q9rWAQ0wa8tW"
      },
      "source": [
        "\n",
        "\n",
        "---\n",
        "\n"
      ]
    },
    {
      "cell_type": "markdown",
      "metadata": {
        "id": "JfJsPehZY7uE"
      },
      "source": [
        "This Notebook was created by **[Eliezer Araújo](https://github.com/mxeliezer)**, adapted from the course **Data Visualization with R**, from *[Cognitive Class.ai](https://cognitiveclass.ai)***. \n",
        "\n",
        "The basic objective is only as a learning and knowledge sharing exercise. There is no intention of commercial use. \n",
        "\n",
        "Additional contacts, suggestions and criticism can be made through e-mail: araujo@tuta.io\n",
        "\n",
        "Thank you very much."
      ]
    }
  ]
}